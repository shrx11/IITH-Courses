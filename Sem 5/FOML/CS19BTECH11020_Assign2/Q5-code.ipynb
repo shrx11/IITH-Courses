{
  "nbformat": 4,
  "nbformat_minor": 0,
  "metadata": {
    "colab": {
      "name": "Untitled9.ipynb",
      "provenance": []
    },
    "kernelspec": {
      "name": "python3",
      "display_name": "Python 3"
    },
    "language_info": {
      "name": "python"
    },
    "accelerator": "TPU"
  },
  "cells": [
    {
      "cell_type": "code",
      "metadata": {
        "id": "jwB3TO-3PZ8C"
      },
      "source": [
        "import pandas as pd\n",
        "import numpy as np\n",
        "from sklearn.metrics import accuracy_score\n",
        "from sklearn.svm import SVC"
      ],
      "execution_count": 38,
      "outputs": []
    },
    {
      "cell_type": "code",
      "metadata": {
        "id": "_v_CjWfiPkBW"
      },
      "source": [
        "def get_data():\n",
        "  \n",
        "  train_data = pd.read_csv('https://archive.ics.uci.edu/ml/machine-learning-databases/gisette/GISETTE/gisette_train.data', sep=\" \",header=None)   \n",
        "  train_labels = pd.read_csv('https://archive.ics.uci.edu/ml/machine-learning-databases/gisette/GISETTE/gisette_train.labels', sep=\" \",header=None)\n",
        "  test_data = pd.read_csv('https://archive.ics.uci.edu/ml/machine-learning-databases/gisette/GISETTE/gisette_valid.data', sep=\" \",header=None)\n",
        "  test_label= pd.read_csv('https://archive.ics.uci.edu/ml/machine-learning-databases/gisette/gisette_valid.labels', sep=\" \",header=None)\n",
        "  \n",
        "  train_data=train_data.dropna(axis='columns')\n",
        "  test_data=test_data.dropna(axis='columns')\n",
        "\n",
        "  train_X= train_data.to_numpy()\n",
        "  train_Y= train_labels.to_numpy()\n",
        "  test_X= test_data.to_numpy()\n",
        "  test_Y= test_label.to_numpy()\n",
        "  \n",
        "  return [[train_X, train_Y], [test_X, test_Y]]"
      ],
      "execution_count": 39,
      "outputs": []
    },
    {
      "cell_type": "code",
      "metadata": {
        "id": "8Edpoy_xPkIY"
      },
      "source": [
        "def classify_linear(train_X, train_Y, test_X, test_Y):\n",
        "\n",
        "  clf = SVC(kernel='linear') \n",
        "  clf.fit(train_X, train_Y) \n",
        "\n",
        "  classifier_predictions=clf.predict(test_X)\n",
        "  training_error = 1-clf.score(train_X, train_Y)\n",
        "  test_error = 1-clf.score(test_X, test_Y)\n",
        "  support_vectors=len(clf.support_vectors_) \n",
        "\n",
        "  return training_error, test_error,support_vectors"
      ],
      "execution_count": 40,
      "outputs": []
    },
    {
      "cell_type": "code",
      "metadata": {
        "id": "oY46lZf4PkKw"
      },
      "source": [
        "def classify_Polynomial(train_X, train_Y, test_X, test_Y):\n",
        "    \n",
        "    clf = SVC(kernel = 'poly', degree = 2,coef0=1, decision_function_shape = 'ovo')  \n",
        "    clf.fit(train_X, train_Y)  \n",
        "\n",
        "    classifier_predictions=clf.predict(test_X)\n",
        "    support_vectors=len(clf.support_vectors_)    \n",
        "    training_error = 1-clf.score(train_X, train_Y)\n",
        "    test_error = 1-clf.score(test_X, test_Y)\n",
        "\n",
        "    return training_error, test_error,support_vectors"
      ],
      "execution_count": 41,
      "outputs": []
    },
    {
      "cell_type": "code",
      "metadata": {
        "id": "TYXEL5YDPkNX"
      },
      "source": [
        "def classify_RBF_kernel(train_X, train_Y, test_X, test_Y):\n",
        "    \n",
        "    clf = SVC(kernel = 'rbf', gamma = 0.001)\n",
        "    clf.fit(train_X, train_Y)\n",
        "\n",
        "    training_error = 1-clf.score(train_X, train_Y)\n",
        "    test_error = 1-clf.score(test_X, test_Y)  \n",
        "    support_vectors=len(clf.support_vectors_)  \n",
        "\n",
        "    return training_error, test_error,support_vectors"
      ],
      "execution_count": 42,
      "outputs": []
    },
    {
      "cell_type": "code",
      "metadata": {
        "id": "b8aMm-sUPkP7"
      },
      "source": [
        "train_test_data = get_data()\n",
        "train_X, train_Y = train_test_data[0]\n",
        "test_X, test_Y = train_test_data[1]"
      ],
      "execution_count": 43,
      "outputs": []
    },
    {
      "cell_type": "code",
      "metadata": {
        "colab": {
          "base_uri": "https://localhost:8080/"
        },
        "id": "QdpolHcRPkSt",
        "outputId": "16b8e3fc-70f1-49b5-f407-a7757be655af"
      },
      "source": [
        "#5(a)\n",
        "training_error, test_error,support_vectors=classify_linear(train_X, train_Y.ravel(), test_X, test_Y.ravel())\n",
        "print(\"\\n5(a)\\nkernal=linear, training_error=\",training_error,\", test_error=\",test_error,\", support vectors=\",support_vectors,\"\\n\")"
      ],
      "execution_count": 44,
      "outputs": [
        {
          "output_type": "stream",
          "name": "stdout",
          "text": [
            "\n",
            "5(a)\n",
            "kernal=linear, training_error= 0.0 , test_error= 0.02400000000000002 , support vectors= 1084 \n",
            "\n"
          ]
        }
      ]
    },
    {
      "cell_type": "code",
      "metadata": {
        "colab": {
          "base_uri": "https://localhost:8080/"
        },
        "id": "cge04l3eQndF",
        "outputId": "0af5b0a4-7e5f-40b7-ca98-a42d867699cc"
      },
      "source": [
        "print(\"5(b)\\n\")\n",
        "training_error, test_error,support_vectors= classify_RBF_kernel(train_X, train_Y.ravel(), test_X, test_Y.ravel())\n",
        "print(\"Kernal=RBF, training_error=\",training_error,\", test error=\",test_error,\", support vectors=\",support_vectors )"
      ],
      "execution_count": 45,
      "outputs": [
        {
          "output_type": "stream",
          "name": "stdout",
          "text": [
            "5(b)\n",
            "\n",
            "Kernal=RBF, training_error= 0.0 , test error= 0.5 , support vectors= 6000\n"
          ]
        }
      ]
    },
    {
      "cell_type": "code",
      "metadata": {
        "colab": {
          "base_uri": "https://localhost:8080/"
        },
        "id": "K_4BZqu8QnVp",
        "outputId": "f40ff4b3-40f2-4926-a143-16025ae9ed4f"
      },
      "source": [
        "training_error, test_error,support_vectors = classify_Polynomial(train_X, train_Y.ravel(), test_X, test_Y.ravel())\n",
        "print(\"kernal=polynomial, training_error=\",training_error,\", test error=\",test_error,\". support vectors=\",support_vectors )\n"
      ],
      "execution_count": 46,
      "outputs": [
        {
          "output_type": "stream",
          "name": "stdout",
          "text": [
            "kernal=polynomial, training_error= 0.0004999999999999449 , test error= 0.020000000000000018 . support vectors= 1332\n"
          ]
        }
      ]
    }
  ]
}