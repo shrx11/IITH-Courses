{
  "nbformat": 4,
  "nbformat_minor": 0,
  "metadata": {
    "colab": {
      "name": "Q4-svm.ipynb",
      "provenance": [],
      "collapsed_sections": []
    },
    "kernelspec": {
      "name": "python3",
      "display_name": "Python 3"
    },
    "language_info": {
      "name": "python"
    }
  },
  "cells": [
    {
      "cell_type": "code",
      "metadata": {
        "id": "8FqdFKPQn90r"
      },
      "source": [
        "import pandas as pd\n",
        "import numpy as np\n",
        "from sklearn.svm import NuSVC\n",
        "from sklearn.metrics import accuracy_score\n",
        "from sklearn.svm import SVC"
      ],
      "execution_count": 106,
      "outputs": []
    },
    {
      "cell_type": "code",
      "metadata": {
        "id": "2OmrK_bdoJ41"
      },
      "source": [
        "def get_data():\n",
        "  df1 = pd.read_csv('http://www.amlbook.com/data/zip/features.train', sep=\"  \",header=None,names=[\"label\",\"f1\",\"f2\"])\n",
        "  df2 = pd.read_csv('http://www.amlbook.com/data/zip/features.test', sep=\"  \",header=None,names=[\"label\",\"f1\",\"f2\"])\n",
        "\n",
        "  traindf=df1[(df1.label == 1) | (df1.label == 5)]\n",
        "  testdf = df2[(df2.label == 1) | (df2.label == 5)]\n",
        "\n",
        "  traindf['label'] = traindf['label'].map({1: 1, 5: -1})\n",
        "  testdf['label'] = testdf['label'].map({1: 1, 5: -1})\n",
        "  train_X= (traindf.loc[:,[\"f1\",\"f2\"]]).to_numpy()\n",
        "  train_Y= (traindf.loc[:,[\"label\"]]).to_numpy()\n",
        "  test_X= (testdf.loc[:,[\"f1\",\"f2\"]]).to_numpy()\n",
        "  test_Y= (testdf.loc[:,[\"label\"]]).to_numpy()\n",
        "  \n",
        "  return [[train_X, train_Y], [test_X, test_Y]]"
      ],
      "execution_count": 107,
      "outputs": []
    },
    {
      "cell_type": "code",
      "metadata": {
        "id": "-f8o1UBZG7mt"
      },
      "source": [
        "def classify_linear(train_X, train_Y, test_X, test_Y, c = 0.01):\n",
        "\n",
        "  clf = SVC(kernel='linear',C=c) \n",
        "  clf.fit(train_X, train_Y) \n",
        "\n",
        "  classifier_predictions=clf.predict(test_X)\n",
        "  Accuracy=accuracy_score(test_Y,classifier_predictions)*100\n",
        "  support_vectors=len(clf.support_vectors_)\n",
        "\n",
        "  return Accuracy,support_vectors"
      ],
      "execution_count": 108,
      "outputs": []
    },
    {
      "cell_type": "code",
      "metadata": {
        "id": "qokfMpOn5-p5"
      },
      "source": [
        "def classify_linear_limited(samples,train_X, train_Y, test_X, test_Y, c = 0.01 ):\n",
        "  train_x=train_X[:samples,]\n",
        "  train_y=train_Y[:samples,]\n",
        "  Accuracy,support_vectors=classify_linear(train_x, train_y, test_X, test_Y)\n",
        "  return Accuracy,support_vectors\n",
        "\n"
      ],
      "execution_count": 109,
      "outputs": []
    },
    {
      "cell_type": "code",
      "metadata": {
        "id": "xd0JrZ-E5-kg"
      },
      "source": [
        "def classify_Polynomial(train_X, train_Y, test_X, test_Y, Q, C_value):\n",
        "    \n",
        "    clf = SVC(C = C_value, kernel = 'poly', degree = Q, gamma = 0.4, decision_function_shape = 'ovo')  \n",
        "    clf.fit(train_X, train_Y)  \n",
        "    classifier_predictions=clf.predict(test_X)\n",
        "    Accuracy=accuracy_score(test_Y,classifier_predictions)*100\n",
        "    support_vectors=len(clf.support_vectors_)    \n",
        "    training_error = 1-clf.score(train_X, train_Y)\n",
        "    test_error = 1-clf.score(test_X, test_Y)\n",
        "    return training_error, test_error,support_vectors,Accuracy\n"
      ],
      "execution_count": 110,
      "outputs": []
    },
    {
      "cell_type": "code",
      "metadata": {
        "id": "B1q55J7U5-nQ"
      },
      "source": [
        "def classify_RBF_kernel(train_X, train_Y, test_X, test_Y, C_value, gamma_value):\n",
        "    \n",
        "    clf = SVC(C = C_value, kernel = 'rbf', gamma = gamma_value)\n",
        "    clf.fit(train_X, train_Y)\n",
        "    training_error = 1-clf.score(train_X, train_Y)\n",
        "    test_error = 1-clf.score(test_X, test_Y)   \n",
        "    return training_error, test_error"
      ],
      "execution_count": 111,
      "outputs": []
    },
    {
      "cell_type": "code",
      "metadata": {
        "colab": {
          "base_uri": "https://localhost:8080/"
        },
        "id": "4UMN9c_VG7pj",
        "outputId": "f6b9309a-943d-40c3-e5de-1c5b9926ba74"
      },
      "source": [
        "#Question 4\n",
        "train_test_data = get_data()\n",
        "train_X, train_Y = train_test_data[0]\n",
        "test_X, test_Y = train_test_data[1]"
      ],
      "execution_count": 112,
      "outputs": [
        {
          "output_type": "stream",
          "name": "stderr",
          "text": [
            "/usr/local/lib/python3.7/dist-packages/ipykernel_launcher.py:2: ParserWarning: Falling back to the 'python' engine because the 'c' engine does not support regex separators (separators > 1 char and different from '\\s+' are interpreted as regex); you can avoid this warning by specifying engine='python'.\n",
            "  \n",
            "/usr/local/lib/python3.7/dist-packages/ipykernel_launcher.py:3: ParserWarning: Falling back to the 'python' engine because the 'c' engine does not support regex separators (separators > 1 char and different from '\\s+' are interpreted as regex); you can avoid this warning by specifying engine='python'.\n",
            "  This is separate from the ipykernel package so we can avoid doing imports until\n",
            "/usr/local/lib/python3.7/dist-packages/ipykernel_launcher.py:8: SettingWithCopyWarning: \n",
            "A value is trying to be set on a copy of a slice from a DataFrame.\n",
            "Try using .loc[row_indexer,col_indexer] = value instead\n",
            "\n",
            "See the caveats in the documentation: https://pandas.pydata.org/pandas-docs/stable/user_guide/indexing.html#returning-a-view-versus-a-copy\n",
            "  \n",
            "/usr/local/lib/python3.7/dist-packages/ipykernel_launcher.py:9: SettingWithCopyWarning: \n",
            "A value is trying to be set on a copy of a slice from a DataFrame.\n",
            "Try using .loc[row_indexer,col_indexer] = value instead\n",
            "\n",
            "See the caveats in the documentation: https://pandas.pydata.org/pandas-docs/stable/user_guide/indexing.html#returning-a-view-versus-a-copy\n",
            "  if __name__ == '__main__':\n"
          ]
        }
      ]
    },
    {
      "cell_type": "code",
      "metadata": {
        "colab": {
          "base_uri": "https://localhost:8080/"
        },
        "id": "V8_UESxeJDcS",
        "outputId": "a8d3113a-3677-4fb6-8575-0944d01f1e0b"
      },
      "source": [
        "#4(a)\n",
        "Accuracy,support_vectors=classify_linear(train_X, train_Y.ravel(), test_X, test_Y.ravel())\n",
        "print(\"\\n4(a) Accuracy-\",Accuracy,\"support vectors\",support_vectors,\"\\n\")"
      ],
      "execution_count": 113,
      "outputs": [
        {
          "output_type": "stream",
          "name": "stdout",
          "text": [
            "\n",
            "4(a) Accuracy- 98.11320754716981 support vectors 120 \n",
            "\n"
          ]
        }
      ]
    },
    {
      "cell_type": "code",
      "metadata": {
        "colab": {
          "base_uri": "https://localhost:8080/"
        },
        "id": "j7InpEW0rg66",
        "outputId": "b5a2ccb4-8e28-454f-c8c7-b4440689fc3e"
      },
      "source": [
        "#4(b)\n",
        "print(\"4(b)\")\n",
        "samples_list = [50, 100, 200, 800]\n",
        "\n",
        "for i in samples_list:\n",
        "  Accuracy,support_vectors=classify_linear_limited(i,train_X, train_Y.ravel(), test_X, test_Y.ravel())\n",
        "  print(\"No of samples-\",i,\" Accuracy-\",Accuracy,\"support vectors\",support_vectors)"
      ],
      "execution_count": 114,
      "outputs": [
        {
          "output_type": "stream",
          "name": "stdout",
          "text": [
            "4(b)\n",
            "No of samples- 50  Accuracy- 97.16981132075472 support vectors 24\n",
            "No of samples- 100  Accuracy- 98.11320754716981 support vectors 36\n",
            "No of samples- 200  Accuracy- 98.11320754716981 support vectors 48\n",
            "No of samples- 800  Accuracy- 98.34905660377359 support vectors 90\n"
          ]
        }
      ]
    },
    {
      "cell_type": "code",
      "metadata": {
        "id": "LVOx_8yeG7sS",
        "colab": {
          "base_uri": "https://localhost:8080/"
        },
        "outputId": "d988c52e-4008-4b53-afc4-8c7fecb2111e"
      },
      "source": [
        "#4(c)\n",
        "print(\"4(c)\")\n",
        "Q = [2, 5]\n",
        "for q in Q:\n",
        "    for exponent in range(0, 5):\n",
        "        C_value = 1 * pow(10, -exponent)\n",
        "        training_error, test_error, no_of_support_vectors, accuracy_score_ = classify_Polynomial(train_X, train_Y.ravel(), test_X, test_Y.ravel(),q, C_value)\n",
        "        print(\"Q=\",q,\"c=\",C_value,\"\\ttraining_error=\",training_error,\" test error=\",test_error,\" supportvectors=\",no_of_support_vectors )\n",
        "\n",
        "print(\"(i) FALSE \\n(ii)TRUE \\n(iii)FALSE \\n(iv)TRUE\")\n",
        "# (i) FALSE\n",
        "# (ii)TRUE\n",
        "# (iii)FALSE\n",
        "# (iv)TRUE"
      ],
      "execution_count": 115,
      "outputs": [
        {
          "output_type": "stream",
          "name": "stdout",
          "text": [
            "4(c)\n",
            "Q= 2 c= 1 \ttraining_error= 0.004484304932735439  test error= 0.018867924528301883  supportvectors= 24\n",
            "Q= 2 c= 0.1 \ttraining_error= 0.004484304932735439  test error= 0.018867924528301883  supportvectors= 30\n",
            "Q= 2 c= 0.01 \ttraining_error= 0.004484304932735439  test error= 0.01650943396226412  supportvectors= 64\n",
            "Q= 2 c= 0.001 \ttraining_error= 0.00832799487508007  test error= 0.021226415094339646  supportvectors= 190\n",
            "Q= 2 c= 0.0001 \ttraining_error= 0.029468289557975647  test error= 0.04245283018867929  supportvectors= 642\n",
            "Q= 5 c= 1 \ttraining_error= 0.005124919923126248  test error= 0.01650943396226412  supportvectors= 27\n",
            "Q= 5 c= 0.1 \ttraining_error= 0.004484304932735439  test error= 0.01650943396226412  supportvectors= 26\n",
            "Q= 5 c= 0.01 \ttraining_error= 0.004484304932735439  test error= 0.01650943396226412  supportvectors= 26\n",
            "Q= 5 c= 0.001 \ttraining_error= 0.005124919923126248  test error= 0.01650943396226412  supportvectors= 32\n",
            "Q= 5 c= 0.0001 \ttraining_error= 0.00832799487508007  test error= 0.021226415094339646  supportvectors= 58\n",
            "(i) FALSE \n",
            "(ii)TRUE \n",
            "(iii)FALSE \n",
            "(iv)TRUE\n"
          ]
        }
      ]
    },
    {
      "cell_type": "code",
      "metadata": {
        "id": "JL3CSnBwG7vB",
        "colab": {
          "base_uri": "https://localhost:8080/"
        },
        "outputId": "f9c775fd-92e5-4a63-f706-7b3d9a338233"
      },
      "source": [
        "#4(d)\n",
        "print(\"4(d)\")\n",
        "print(\"Lowest training error is for c=1000000\\nLowest test error for c=100\\n\")\n",
        "for i in range(-2, 8, 2):\n",
        "    C_value = 1 * pow(10, i)\n",
        "    gamma_value = 1\n",
        "\n",
        "    training_error, test_error = classify_RBF_kernel(train_X, train_Y.ravel(), test_X, test_Y.ravel(), C_value, gamma_value)\n",
        "    print(\"c=\",C_value,\"\\ttraining_error=\",training_error,\" test error=\",test_error)"
      ],
      "execution_count": 116,
      "outputs": [
        {
          "output_type": "stream",
          "name": "stdout",
          "text": [
            "4(d)\n",
            "Lowest training error is for c=1000000\n",
            "Lowest test error for c=100\n",
            "\n",
            "c= 0.01 \ttraining_error= 0.0038436899423446302  test error= 0.02358490566037741\n",
            "c= 1 \ttraining_error= 0.004484304932735439  test error= 0.021226415094339646\n",
            "c= 100 \ttraining_error= 0.0032030749519538215  test error= 0.018867924528301883\n",
            "c= 10000 \ttraining_error= 0.002562459961563124  test error= 0.02358490566037741\n",
            "c= 1000000 \ttraining_error= 0.0006406149903908087  test error= 0.02358490566037741\n"
          ]
        }
      ]
    }
  ]
}