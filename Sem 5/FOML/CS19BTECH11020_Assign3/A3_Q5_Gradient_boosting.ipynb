{
  "nbformat": 4,
  "nbformat_minor": 0,
  "metadata": {
    "colab": {
      "name": "A3-Q5-Gradient boosting.ipynb",
      "provenance": [],
      "collapsed_sections": []
    },
    "kernelspec": {
      "name": "python3",
      "display_name": "Python 3"
    },
    "language_info": {
      "name": "python"
    }
  },
  "cells": [
    {
      "cell_type": "code",
      "metadata": {
        "id": "w1aNrgeYhCtn"
      },
      "source": [
        "import pandas as pd\n",
        "import numpy as np\n",
        "import sklearn\n",
        "import sklearn.ensemble\n",
        "from sklearn.metrics import accuracy_score\n",
        "from sklearn.datasets import make_hastie_10_2\n",
        "from sklearn.ensemble import GradientBoostingClassifier\n",
        "from sklearn.model_selection import cross_val_score\n",
        "from sklearn.tree import DecisionTreeClassifier\n",
        "from sklearn import metrics"
      ],
      "execution_count": 57,
      "outputs": []
    },
    {
      "cell_type": "code",
      "metadata": {
        "id": "L1Nu13ql2qqi"
      },
      "source": [
        "def preproceesing_data(df):\n",
        "  #removing rows with loan_status as current\n",
        "  df.drop(df.index[df['loan_status'] == 'Current'], inplace = True)\n",
        "\n",
        "  #renaming labels and assigning values to target varibles\n",
        " # train_data.rename(columns = {'loan_status':'label'}, inplace = True)\n",
        "  df['loan_status'].replace({\"Charged Off\": -1, \"Fully Paid\": +1}, inplace=True)\n",
        "\n",
        "  #dropping columns with all null values\n",
        "  df=df.dropna(axis='columns',how=\"all\")\n",
        "\n",
        "  #dropping columns with only single value\n",
        "  for col in df.columns:\n",
        "      if len(df[col].unique()) == 1:\n",
        "          df.drop(col,inplace=True,axis=1)\n",
        "\n",
        "  #droping columns wich have no useful information like id, adress, url and description\n",
        "  df=df.drop(['url','desc','id','member_id','zip_code','title','emp_title'],axis=1)\n",
        "  # df=df.drop(['funded_amnt','total_rec_prncp','recoveries'],axis=1)\n",
        "  #removing columns which have null values more than 20% of the training data\n",
        "  for col in df:\n",
        "    if df[col].isnull().sum() > (df.shape[0])/5 :\n",
        "      df.drop(col,axis=1,inplace=True)\n",
        "\n",
        "  #removing rows which have null values\n",
        "  df=df.dropna(axis='rows')\n",
        "\n",
        "  #dropping columns with only single value\n",
        "  for col in df.columns:\n",
        "      if len(df[col].unique()) == 1:\n",
        "          df.drop(col,inplace=True,axis=1)\n",
        "\n",
        "  #corr = train_df.corr()['loan_status'].sort_values()\n",
        "  #print('\\nMost Negative Correlations:\\n', corr.head(10))\n",
        "  least_core=['recoveries','collection_recovery_fee','sub_grade','grade','term','total_rec_late_fee','revol_util','inq_last_6mths','loan_amnt','funded_amnt','purpose','emp_length','addr_state','home_ownership']\n",
        "  df=df.drop(least_core,axis=1)\n",
        "\n",
        "  print(df.shape)\n",
        "\n",
        "  for col_name in df.columns:\n",
        "    if(df[col_name].dtype == 'object'):\n",
        "        df[col_name]= df[col_name].astype('category')\n",
        "        df[col_name] = df[col_name].cat.codes\n",
        "\n",
        "  return df"
      ],
      "execution_count": 58,
      "outputs": []
    },
    {
      "cell_type": "code",
      "metadata": {
        "id": "l2cVV-dsfv9V"
      },
      "source": [
        "#getting data provide path\n",
        "train_data = pd.read_csv('/content/drive/MyDrive/FOML/loan_train.csv', sep=\",\")   \n",
        "test_data = pd.read_csv('/content/drive/MyDrive/FOML/loan_test.csv', sep=\",\")"
      ],
      "execution_count": 59,
      "outputs": []
    },
    {
      "cell_type": "code",
      "metadata": {
        "colab": {
          "base_uri": "https://localhost:8080/"
        },
        "id": "o1p5lSFT-f9t",
        "outputId": "f2eb9f93-29a7-4980-e176-002fc2e5ea75"
      },
      "source": [
        "#preprocessing_data\n",
        "\n",
        "train_df=preproceesing_data(train_data)\n",
        "test_df=preproceesing_data(test_data)\n",
        "\n",
        "train_X_df=train_df.drop(['loan_status'],axis=1)\n",
        "test_X_df=test_df.drop(['loan_status'],axis=1)\n",
        "\n",
        "train_X=train_X_df.to_numpy()\n",
        "train_Y=train_df['loan_status'].to_numpy()\n",
        "test_X=test_X_df.to_numpy()\n",
        "test_Y=test_df['loan_status'].to_numpy()"
      ],
      "execution_count": 60,
      "outputs": [
        {
          "output_type": "stream",
          "name": "stderr",
          "text": [
            "/usr/local/lib/python3.7/dist-packages/pandas/core/frame.py:4174: SettingWithCopyWarning: \n",
            "A value is trying to be set on a copy of a slice from a DataFrame\n",
            "\n",
            "See the caveats in the documentation: https://pandas.pydata.org/pandas-docs/stable/user_guide/indexing.html#returning-a-view-versus-a-copy\n",
            "  errors=errors,\n"
          ]
        },
        {
          "output_type": "stream",
          "name": "stdout",
          "text": [
            "(23771, 22)\n",
            "(12964, 22)\n"
          ]
        },
        {
          "output_type": "stream",
          "name": "stderr",
          "text": [
            "/usr/local/lib/python3.7/dist-packages/pandas/core/frame.py:4174: SettingWithCopyWarning: \n",
            "A value is trying to be set on a copy of a slice from a DataFrame\n",
            "\n",
            "See the caveats in the documentation: https://pandas.pydata.org/pandas-docs/stable/user_guide/indexing.html#returning-a-view-versus-a-copy\n",
            "  errors=errors,\n"
          ]
        }
      ]
    },
    {
      "cell_type": "code",
      "metadata": {
        "id": "NZBXeHbAlQUQ",
        "colab": {
          "base_uri": "https://localhost:8080/",
          "height": 35
        },
        "outputId": "196981b1-2488-439b-c2eb-f96993e5c33c"
      },
      "source": [
        "#feature selection \n",
        "#classifying \n",
        "'''\n",
        "clf = GradientBoostingClassifier(n_estimators=300, learning_rate=0.1,criterion='mse',max_depth=4, random_state=10,max_features='auto').fit(train_X, train_Y)\n",
        "clf.score(test_X, test_Y)\n",
        "'''\n",
        "#calculating importance of features and removing features with lower importance\n",
        "\n",
        "'''\n",
        "features=pd.DataFrame({\"Variable_Name\":train_X_df.columns,\"Importance\":clf.feature_importances_}).sort_values('Importance', ascending=False)\n",
        "y=features.Importance.mean()\n",
        "list=[]\n",
        "for index,feature in features.iterrows():\n",
        "    if feature[\"Importance\"]<y:\n",
        "      list.append(feature[\"Variable_Name\"])\n",
        "\n",
        "'''\n",
        "#calculated the list and removing features\n",
        "#list=['last_pymnt_amnt','last_credit_pull_d','total_rec_int','last_pymnt_d','loan_amnt','total_rec_late_fee','installment','total_pymnt','funded_amnt_inv','emp_title','revol_bal','annual_inc','open_acc','total_pymnt_inv','sub_grade','dti','purpose','earliest_cr_line','revol_util','emp_length','issue_d','delinq_2yrs','inq_last_6mths','addr_state','int_rate','total_acc','grade','collection_recovery_fee','home_ownership','pub_rec','verification_status','pub_rec_bankruptcies','term']\n",
        "                \n",
        "'''\n",
        "modified_train_X_df=train_X_df.drop(list,axis=1)\n",
        "modified_test_X_df=test_X_df.drop(list,axis=1)\n",
        "modified_train_X=modified_train_X_df.to_numpy()\n",
        "modified_test_X=modified_test_X_df.to_numpy()'''"
      ],
      "execution_count": 61,
      "outputs": [
        {
          "output_type": "execute_result",
          "data": {
            "application/vnd.google.colaboratory.intrinsic+json": {
              "type": "string"
            },
            "text/plain": [
              "'\\nmodified_train_X_df=train_X_df.drop(list,axis=1)\\nmodified_test_X_df=test_X_df.drop(list,axis=1)\\nmodified_train_X=modified_train_X_df.to_numpy()\\nmodified_test_X=modified_test_X_df.to_numpy()'"
            ]
          },
          "metadata": {},
          "execution_count": 61
        }
      ]
    },
    {
      "cell_type": "code",
      "metadata": {
        "colab": {
          "base_uri": "https://localhost:8080/"
        },
        "id": "SHPJXiVOXooC",
        "outputId": "e15c18de-8293-4642-a630-3ac7adca5bea"
      },
      "source": [
        "#classifying on important features\n",
        "\n",
        "clf = GradientBoostingClassifier(n_estimators=400, learning_rate=0.2,criterion='friedman_mse',max_depth=4, random_state=10,max_features='auto').fit(train_X, train_Y)\n",
        "print(clf.score(test_X, test_Y))\n",
        "print(metrics.precision_score(test_Y, clf.predict(test_X)))\n",
        "print(metrics.recall_score(test_Y, clf.predict(test_X)))"
      ],
      "execution_count": 62,
      "outputs": [
        {
          "output_type": "stream",
          "name": "stdout",
          "text": [
            "0.994214748534403\n",
            "0.9933751119068934\n",
            "0.9999098855546544\n"
          ]
        }
      ]
    },
    {
      "cell_type": "code",
      "metadata": {
        "colab": {
          "base_uri": "https://localhost:8080/"
        },
        "id": "QLhJWVWGsIM_",
        "outputId": "1eda7059-62cc-4ded-c105-a719a877dff3"
      },
      "source": [
        "#inbuilt classifier\n",
        "\n",
        "clf_dt = DecisionTreeClassifier(criterion = \"entropy\",random_state = 10,max_depth=3).fit(train_X, train_Y)\n",
        "print(clf_dt.score(test_X, test_Y))\n",
        "print(metrics.precision_score(test_Y, clf_dt.predict(test_X)))\n",
        "print(metrics.recall_score(test_Y, clf_dt.predict(test_X)))"
      ],
      "execution_count": 63,
      "outputs": [
        {
          "output_type": "stream",
          "name": "stdout",
          "text": [
            "0.9288799753162604\n",
            "0.9233585753515853\n",
            "0.9999098855546544\n"
          ]
        }
      ]
    }
  ]
}