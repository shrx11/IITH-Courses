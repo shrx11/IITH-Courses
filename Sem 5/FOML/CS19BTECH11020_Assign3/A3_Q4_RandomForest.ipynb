{
  "nbformat": 4,
  "nbformat_minor": 0,
  "metadata": {
    "colab": {
      "name": "A3-Q4-RandomForest.ipynb",
      "provenance": [],
      "collapsed_sections": []
    },
    "kernelspec": {
      "name": "python3",
      "display_name": "Python 3"
    },
    "language_info": {
      "name": "python"
    }
  },
  "cells": [
    {
      "cell_type": "code",
      "metadata": {
        "id": "d5QeyTOjE4Kj"
      },
      "source": [
        "import pandas as pd\n",
        "import numpy as np\n",
        "from sklearn.metrics import accuracy_score\n",
        "from sklearn.model_selection import train_test_split\n",
        "from sklearn.metrics import classification_report\n",
        "import random\n",
        "from pprint import pprint\n",
        "from sklearn import metrics"
      ],
      "execution_count": 76,
      "outputs": []
    },
    {
      "cell_type": "code",
      "metadata": {
        "id": "VBWFM1j6E-rm"
      },
      "source": [
        "def get_data(df,test_ratio):\n",
        "\n",
        "  df1 = df[df[\"label\"] ==1]\n",
        "  df2 = df[df[\"label\"] ==0]\n",
        "  \n",
        "  train1, test1 = train_test_split(df1, random_state=91,test_size=test_ratio)\n",
        "  train2, test2 = train_test_split(df2, random_state=91,test_size=test_ratio)\n",
        "  \n",
        "  train_df=pd.concat([train1, train2], axis=0)\n",
        "  test_df=pd.concat([test1, test2], axis=0)\n",
        "\n",
        "  return train_df,test_df"
      ],
      "execution_count": 77,
      "outputs": []
    },
    {
      "cell_type": "code",
      "metadata": {
        "id": "AbG0BMLwE-t5"
      },
      "source": [
        "def check_purity(data):                 #function to check purity \n",
        "  label_column=data[:,-1]\n",
        "  unique_classes=np.unique(label_column)\n",
        "\n",
        "  if len(unique_classes)==1:\n",
        "    return True\n",
        "  else:\n",
        "    return False"
      ],
      "execution_count": 78,
      "outputs": []
    },
    {
      "cell_type": "code",
      "metadata": {
        "id": "j8bQOROKE-ww"
      },
      "source": [
        "def classify_data(data):\n",
        "\n",
        "  label_column=data[:,-1]\n",
        "  unique_classes, counts_unique_classes=np.unique(label_column, return_counts=True)\n",
        "\n",
        "  index=counts_unique_classes.argmax()\n",
        "  classification=unique_classes[index]\n",
        "\n",
        "  return classification"
      ],
      "execution_count": 79,
      "outputs": []
    },
    {
      "cell_type": "code",
      "metadata": {
        "id": "-KbUms3zE-zo"
      },
      "source": [
        "def get_potential_splits(data,random_subspace):             #calculating all potential splits in the data colunm wise and storing in  a vector\n",
        "    \n",
        "    potential_splits = {}\n",
        "    _, n_columns = data.shape\n",
        "    column_indices = list(range(n_columns - 1))    # excluding the last column which is the label\n",
        "    \n",
        "    if random_subspace and random_subspace <= len(column_indices):\n",
        "        column_indices = random.sample(population=column_indices, k=random_subspace)\n",
        "    \n",
        "    for column_index in column_indices:          \n",
        "        values = data[:, column_index]\n",
        "        unique_values = np.unique(values)\n",
        "        \n",
        "        potential_splits[column_index] = unique_values\n",
        "    \n",
        "    return potential_splits"
      ],
      "execution_count": 80,
      "outputs": []
    },
    {
      "cell_type": "code",
      "metadata": {
        "id": "6qwz30WXE-2h"
      },
      "source": [
        "def split_data(data, split_column, split_value):          #function to split data at each decision\n",
        "    \n",
        "    split_column_values = data[:, split_column]\n",
        "\n",
        "    data_below = data[split_column_values <= split_value]\n",
        "    data_above = data[split_column_values >  split_value]\n",
        "    \n",
        "    return data_below, data_above"
      ],
      "execution_count": 81,
      "outputs": []
    },
    {
      "cell_type": "code",
      "metadata": {
        "id": "xT_9xARkE-5U"
      },
      "source": [
        "def calculate_entropy(data):                                  #function to calculate entropy of node in the tree\n",
        "    \n",
        "    label_column = data[:, -1]\n",
        "    _, counts = np.unique(label_column, return_counts=True)\n",
        "\n",
        "    probabilities = counts / counts.sum()\n",
        "    entropy = sum(probabilities * -np.log2(probabilities))\n",
        "     \n",
        "    return entropy"
      ],
      "execution_count": 82,
      "outputs": []
    },
    {
      "cell_type": "code",
      "metadata": {
        "id": "VnwHXEL8E-8I"
      },
      "source": [
        "def calculate_overall_entropy(data_below, data_above):\n",
        "    \n",
        "    n = len(data_below) + len(data_above)\n",
        "    if n==0:\n",
        "      return 0;\n",
        "    p_data_below = len(data_below) / n\n",
        "    p_data_above = len(data_above) / n\n",
        "\n",
        "    overall_entropy =  (p_data_below * calculate_entropy(data_below) \n",
        "                      + p_data_above * calculate_entropy(data_above))\n",
        "    \n",
        "    return overall_entropy"
      ],
      "execution_count": 83,
      "outputs": []
    },
    {
      "cell_type": "code",
      "metadata": {
        "id": "wn1qWIlNE-_C"
      },
      "source": [
        "def determine_best_split(data, potential_splits):                     #selecting the best split by checking information gain\n",
        "    \n",
        "    overall_entropy = 9999\n",
        "    for column_index in potential_splits:\n",
        "        for value in potential_splits[column_index]:\n",
        "            data_below, data_above = split_data(data, split_column=column_index, split_value=value)\n",
        "            current_overall_entropy = calculate_overall_entropy(data_below, data_above)\n",
        "\n",
        "            if current_overall_entropy <= overall_entropy:\n",
        "                overall_entropy = current_overall_entropy\n",
        "                best_split_column = column_index\n",
        "                best_split_value = value\n",
        "    \n",
        "    return best_split_column, best_split_value"
      ],
      "execution_count": 84,
      "outputs": []
    },
    {
      "cell_type": "code",
      "metadata": {
        "id": "idVYCdUtE_CQ"
      },
      "source": [
        "def decision_tree_algorithm(df, counter=0, min_samples=2, max_depth=10,random_subspace=None):      #recursive decision tree algorithm\n",
        "    # data preparations\n",
        "    if counter == 0:\n",
        "        global COLUMN_HEADERS\n",
        "        COLUMN_HEADERS = df.columns\n",
        "        data = df.values\n",
        "    else:\n",
        "        data = df           \n",
        "    \n",
        "    # base cases\n",
        "    if (check_purity(data)) or (len(data) < min_samples) or (counter == max_depth):\n",
        "        classification = classify_data(data)\n",
        "        \n",
        "        return classification\n",
        "\n",
        "    # recursive part\n",
        "    else:    \n",
        "        counter += 1\n",
        "\n",
        "        # helper functions \n",
        "        potential_splits = get_potential_splits(data, random_subspace)\n",
        "        split_column, split_value = determine_best_split(data, potential_splits)\n",
        "        data_below, data_above = split_data(data, split_column, split_value)\n",
        "        \n",
        "        if len(data_below) == 0 or len(data_above) == 0:\n",
        "            classification = classify_data(data)\n",
        "            return classification\n",
        "        \n",
        "        # determine question\n",
        "        question = \"{} <= {}\".format(COLUMN_HEADERS[split_column], split_value)\n",
        "  \n",
        "        # instantiate sub-tree\n",
        "        sub_tree = {question: []}\n",
        "        \n",
        "        yes_answer = decision_tree_algorithm(data_below, counter, min_samples, max_depth, random_subspace)\n",
        "        no_answer = decision_tree_algorithm(data_above, counter, min_samples, max_depth, random_subspace)\n",
        "    \n",
        "        if yes_answer == no_answer:\n",
        "            sub_tree = yes_answer\n",
        "        else:\n",
        "            sub_tree[question].append(yes_answer)\n",
        "            sub_tree[question].append(no_answer)\n",
        "        \n",
        "        return sub_tree"
      ],
      "execution_count": 85,
      "outputs": []
    },
    {
      "cell_type": "code",
      "metadata": {
        "id": "xnTNgN3-E_FH"
      },
      "source": [
        "def predict_example(example, tree):\n",
        "    question = list(tree.keys())[0]\n",
        "    feature_name, comparison_operator, value = question.split(\" \")\n",
        "\n",
        "    # ask question\n",
        "    if comparison_operator == \"<=\":\n",
        "        if example[int(feature_name)] <= float(value):\n",
        "            answer = tree[question][0]\n",
        "        else:\n",
        "            answer = tree[question][1]\n",
        "\n",
        "    # base case\n",
        "    if not isinstance(answer, dict):\n",
        "        return answer\n",
        "    \n",
        "    # recursive part\n",
        "    else:\n",
        "        residual_tree = answer\n",
        "        return predict_example(example, residual_tree)"
      ],
      "execution_count": 86,
      "outputs": []
    },
    {
      "cell_type": "code",
      "metadata": {
        "id": "ET1Dq8rXE_H-"
      },
      "source": [
        "def decision_tree_predictions(test_df, tree):\n",
        "    predictions=[]\n",
        "    predictions = test_df.apply(predict_example,  axis=1,args=(tree,))\n",
        "    return predictions"
      ],
      "execution_count": 87,
      "outputs": []
    },
    {
      "cell_type": "code",
      "metadata": {
        "id": "Ql0-k-y2E_LL"
      },
      "source": [
        "def calculate_accuracy(predictions, labels):\n",
        "    predictions_correct = predictions == labels\n",
        "    accuracy =100* predictions_correct.mean()\n",
        "    \n",
        "    return accuracy"
      ],
      "execution_count": 88,
      "outputs": []
    },
    {
      "cell_type": "code",
      "metadata": {
        "id": "Z62ipVaPE_Ok"
      },
      "source": [
        "def bootstrapping(train_df, n_bootstrap):\n",
        "    bootstrap_indices = np.random.randint(low=0, high=len(train_df), size=n_bootstrap)\n",
        "    df_bootstrapped = train_df.iloc[bootstrap_indices]\n",
        "    \n",
        "    return df_bootstrapped\n",
        "\n",
        "def random_forest_algorithm(train_df, n_trees, n_bootstrap, n_features, dt_max_depth):\n",
        "    forest = []\n",
        "    for i in range(n_trees):\n",
        "        df_bootstrapped = bootstrapping(train_df, n_bootstrap)\n",
        "        tree = decision_tree_algorithm(df_bootstrapped, max_depth=dt_max_depth, random_subspace=n_features)\n",
        "        forest.append(tree)\n",
        "    \n",
        "    return forest\n",
        "\n",
        "def random_forest_predictions(test_df, forest):\n",
        "    df_predictions = {}\n",
        "    for i in range(len(forest)):\n",
        "        column_name = \"tree_{}\".format(i)\n",
        "        predictions = decision_tree_predictions(test_df, tree=forest[i])\n",
        "        df_predictions[column_name] = predictions\n",
        "\n",
        "    df_predictions = pd.DataFrame(df_predictions)\n",
        "    random_forest_predictions = df_predictions.mode(axis=1)[0]\n",
        "    \n",
        "    return random_forest_predictions"
      ],
      "execution_count": 89,
      "outputs": []
    },
    {
      "cell_type": "code",
      "metadata": {
        "id": "Q_nv8kyqKZ5N"
      },
      "source": [
        "#getting data\n",
        "data = pd.read_csv('https://web.stanford.edu/~hastie/ElemStatLearn//datasets/spam.data', sep=\" \",header=None) \n",
        "data=data.rename(columns={len(data.columns)-1:\"label\"})\n",
        "train_df, test_df = get_data(data, test_ratio=0.2)"
      ],
      "execution_count": 90,
      "outputs": []
    },
    {
      "cell_type": "code",
      "metadata": {
        "colab": {
          "base_uri": "https://localhost:8080/"
        },
        "id": "LQMaWykUE_Zp",
        "outputId": "14e93b00-318a-487c-f416-5e184dbfdd0f"
      },
      "source": [
        "#predictions and accuracy\n",
        "\n",
        "forest = random_forest_algorithm(train_df, n_trees=8, n_bootstrap=800, n_features=40, dt_max_depth=10)\n",
        "predictions = random_forest_predictions(test_df, forest)\n",
        "accuracy = calculate_accuracy(predictions, test_df.label)\n",
        "\n",
        "print(\"Accuracy = {} \".format(accuracy))"
      ],
      "execution_count": 91,
      "outputs": [
        {
          "output_type": "stream",
          "name": "stdout",
          "text": [
            "Accuracy = 91.42236699239956 \n"
          ]
        }
      ]
    },
    {
      "cell_type": "code",
      "metadata": {
        "id": "w9lJqTQuE_mr",
        "colab": {
          "base_uri": "https://localhost:8080/"
        },
        "outputId": "4d581720-bcde-4b10-9da9-f1fd23bc2432"
      },
      "source": [
        "target_names=[0,1]\n",
        "predicts=(predictions.to_numpy()).astype(int)\n",
        "classification_report(y_test, predicts)\n",
        "metrics.precision_score(y_test, predicts)\n",
        "metrics.recall_score(y_test, predicts)\n",
        "print(\"Accuracy = {} \".format(accuracy))"
      ],
      "execution_count": 99,
      "outputs": [
        {
          "output_type": "stream",
          "name": "stdout",
          "text": [
            "Accuracy = 91.42236699239956 \n"
          ]
        }
      ]
    },
    {
      "cell_type": "code",
      "metadata": {
        "colab": {
          "base_uri": "https://localhost:8080/"
        },
        "id": "SNKGA4TjGhft",
        "outputId": "5e4acebb-89a5-40c3-ec73-55ee8edf1e37"
      },
      "source": [
        "#for inbuilt classifier\n",
        "\n",
        "from sklearn.model_selection import cross_val_score\n",
        "from sklearn.tree import DecisionTreeClassifier\n",
        "from sklearn.ensemble import RandomForestClassifier\n",
        "\n",
        "train_X_df=train_df.drop(['label'],axis=1)\n",
        "test_X_df=test_df.drop(['label'],axis=1)\n",
        "\n",
        "X_train=train_X_df.to_numpy()\n",
        "y_train=train_df['label'].to_numpy()\n",
        "X_test=test_X_df.to_numpy()\n",
        "y_test=test_df['label'].to_numpy()\n",
        "\n",
        "clf = RandomForestClassifier(n_estimators = 8,criterion='entropy',max_depth=10,max_features=10,max_samples=800)\n",
        "clf.fit(X_train, y_train)\n",
        "print(100*clf.score(X_test, y_test))"
      ],
      "execution_count": 103,
      "outputs": [
        {
          "output_type": "stream",
          "name": "stdout",
          "text": [
            "92.94245385450597\n"
          ]
        }
      ]
    },
    {
      "cell_type": "code",
      "metadata": {
        "id": "XQiiYIBxE_wH"
      },
      "source": [
        "def print_accuracies(train_df) : #print acurracies for all m\n",
        "  accuracies=[]\n",
        "  for i in range(train_df.shape[1]):\n",
        "    forest = random_forest_algorithm(train_df, n_trees=7, n_bootstrap=500, n_features=i, dt_max_depth=7)\n",
        "    predictions = random_forest_predictions(test_df, forest)\n",
        "    accuracy = calculate_accuracy(predictions, test_df.label)\n",
        "    accuracies.append(accuracy)\n",
        "    print(accuracy)\n"
      ],
      "execution_count": 107,
      "outputs": []
    },
    {
      "cell_type": "code",
      "metadata": {
        "colab": {
          "base_uri": "https://localhost:8080/",
          "height": 268
        },
        "id": "tsQ4VN9mA988",
        "outputId": "fd008e24-a953-41a6-f917-e8f1cd098f30"
      },
      "source": [
        "#plotting test error\n",
        "import matplotlib.pyplot as plt\n",
        "m=[2,5,7,10,15,20,30,40,55]\n",
        "test_error=[]\n",
        "Accuracies=[89.68512486427795,90.66232356134635,91.20521172638436,92.15667752442996,92.28241042345277,92.39098805646036,92.53094462540716,93.05103148751357,93.75193128751357]\n",
        "for i in Accuracies:\n",
        "  test_error.append((100-i)/100)\n",
        "\n",
        "plt.plot(m,test_error)\n",
        "plt.show()"
      ],
      "execution_count": 108,
      "outputs": [
        {
          "output_type": "display_data",
          "data": {
            "image/png": "[encoded data removed]",
            "text/plain": [
              "<Figure size 432x288 with 1 Axes>"
            ]
          },
          "metadata": {
            "needs_background": "light"
          }
        }
      ]
    },
    {
      "cell_type": "code",
      "metadata": {
        "id": "qLjby_FRb39e"
      },
      "source": [
        ""
      ],
      "execution_count": null,
      "outputs": []
    }
  ]
}